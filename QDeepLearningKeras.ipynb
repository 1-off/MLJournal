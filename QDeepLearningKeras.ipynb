{
  "nbformat": 4,
  "nbformat_minor": 0,
  "metadata": {
    "colab": {
      "provenance": [],
      "authorship_tag": "ABX9TyNAD7YUXFoQV7eUvSXHKy+l",
      "include_colab_link": true
    },
    "kernelspec": {
      "name": "python3",
      "display_name": "Python 3"
    },
    "language_info": {
      "name": "python"
    }
  },
  "cells": [
    {
      "cell_type": "markdown",
      "metadata": {
        "id": "view-in-github",
        "colab_type": "text"
      },
      "source": [
        "<a href=\"https://colab.research.google.com/github/1-off/MLJournal/blob/main/QDeepLearningKeras.ipynb\" target=\"_parent\"><img src=\"https://colab.research.google.com/assets/colab-badge.svg\" alt=\"Open In Colab\"/></a>"
      ]
    },
    {
      "cell_type": "markdown",
      "source": [
        "[Deep Reinforcement Learning with Double Q-learning\n",
        "\n",
        "*   https://stackoverflow.com/questions/73987580/keras-combine-multiple-matrix-like-inputs-of-different-sizes\n",
        "*  [ Hado van Hasselt and Arthur Guez and David Silver\n",
        "Google DeepMind](https://arxiv.org/pdf/1509.06461.pdf)\n",
        "* https://adventuresinmachinelearning.com/reinforcement-learning-tensorflow/\n",
        "\n",
        "\n"
      ],
      "metadata": {
        "id": "WSYBVGFe3iM1"
      }
    },
    {
      "cell_type": "markdown",
      "source": [
        "Import necessary libraries"
      ],
      "metadata": {
        "id": "iL6PEzkoMLEe"
      }
    },
    {
      "cell_type": "code",
      "source": [
        "import numpy as np\n",
        "import tensorflow as tf\n",
        "from tensorflow import keras\n",
        "from tensorflow.keras import layers"
      ],
      "metadata": {
        "id": "zsojlaw-MIfa"
      },
      "execution_count": null,
      "outputs": []
    },
    {
      "cell_type": "markdown",
      "source": [
        "Configuration paramaters\n"
      ],
      "metadata": {
        "id": "NguzUyPh3aa_"
      }
    },
    {
      "cell_type": "code",
      "source": [
        "seed = 42\n",
        "gamma = 0.99  # Discount factor for past rewards\n",
        "epsilon = 1.0  # Epsilon greedy parameter\n",
        "epsilon_min = 0.1  # Minimum epsilon greedy parameter\n",
        "epsilon_max = 1.0  # Maximum epsilon greedy parameter\n",
        "epsilon_interval = (\n",
        "    epsilon_max - epsilon_min\n",
        ")  # Rate at which to reduce chance of random action being taken\n",
        "batch_size = 32  # Size of batch taken from replay buffer\n",
        "max_steps_per_episode = 10000"
      ],
      "metadata": {
        "id": "Mdg5T96x3auv"
      },
      "execution_count": null,
      "outputs": []
    },
    {
      "cell_type": "markdown",
      "source": [
        "Define the network layout\n",
        "\n",
        "\n",
        "1.  Define 1 or multiple matrices\n",
        "\n",
        "\n"
      ],
      "metadata": {
        "id": "XblsSnUgPNrp"
      }
    },
    {
      "cell_type": "code",
      "source": [
        "agentStatus = Input(shape=(160, 160, 1))\n",
        "inp_spec = Input(shape=(32, 24, 1))\n"
      ],
      "metadata": {
        "id": "h57jRvJsPNzf"
      },
      "execution_count": null,
      "outputs": []
    },
    {
      "cell_type": "markdown",
      "source": [
        "Declare possible actions"
      ],
      "metadata": {
        "id": "p4YOE3ZQLtQy"
      }
    },
    {
      "cell_type": "code",
      "execution_count": null,
      "metadata": {
        "id": "Sl66UQQ4Lslq"
      },
      "outputs": [],
      "source": [
        "up = ''\n",
        "down = ''\n",
        "right = ''\n",
        "left = ''"
      ]
    },
    {
      "cell_type": "markdown",
      "source": [
        "Declare possible outcomes"
      ],
      "metadata": {
        "id": "ISJeAOjgL26a"
      }
    },
    {
      "cell_type": "code",
      "source": [
        "positive = 1\n",
        "negative = -1\n",
        "neutral = 0"
      ],
      "metadata": {
        "id": "5FBM4FAvL9FX"
      },
      "execution_count": null,
      "outputs": []
    },
    {
      "cell_type": "markdown",
      "source": [
        "Perform action function"
      ],
      "metadata": {
        "id": "3i23vatdL9dQ"
      }
    },
    {
      "cell_type": "code",
      "source": [
        "def performaction(k):\n",
        "  key.pushed(k)"
      ],
      "metadata": {
        "id": "cvLIvHqHMCwd"
      },
      "execution_count": null,
      "outputs": []
    },
    {
      "cell_type": "markdown",
      "source": [
        "Check enviroment"
      ],
      "metadata": {
        "id": "Oq0joCPmOlXS"
      }
    },
    {
      "cell_type": "code",
      "source": [
        "\n",
        "def currentAgentStatus(agent):\n",
        "  if requests.post:\n",
        "    return agent.array[isAlive,healthLevel,spells[available,notavailable,available],currentPosition[x,y]]\n",
        "\n",
        "def checkenviroment(enviroment):\n",
        "  if requests.post:\n",
        "    retrun enviroment.array[monsters.array[[isattacking,name,health,angledegree,distance,otherinfo]],objects.array[[name,angledegree,distance,otherinfo]]]"
      ],
      "metadata": {
        "id": "iVfDrGoaOrCS"
      },
      "execution_count": null,
      "outputs": []
    },
    {
      "cell_type": "markdown",
      "source": [
        "Update the network function"
      ],
      "metadata": {
        "id": "uA2o0zjTMDEr"
      }
    },
    {
      "cell_type": "code",
      "source": [
        "def updatenetwork():\n",
        "  if checkposition() != previousposition:\n",
        "  update.network(positive)\n",
        "  previousposition = checkposition()\n",
        "else:\n",
        "  update.network(negative)"
      ],
      "metadata": {
        "id": "RRsofMmfNCIF"
      },
      "execution_count": null,
      "outputs": []
    },
    {
      "cell_type": "markdown",
      "source": [
        "Training loop"
      ],
      "metadata": {
        "id": "wAzwxd9ONAFD"
      }
    },
    {
      "cell_type": "code",
      "source": [
        "for _ in range(iterations):\n",
        "  performactions(k)\n",
        "  updatenetwork()"
      ],
      "metadata": {
        "id": "l9RIAX3xMGsm"
      },
      "execution_count": null,
      "outputs": []
    },
    {
      "cell_type": "markdown",
      "source": [
        "Save the model"
      ],
      "metadata": {
        "id": "lKFWZ8M4MXEz"
      }
    },
    {
      "cell_type": "code",
      "source": [
        "savemodel()"
      ],
      "metadata": {
        "id": "R-9ata7PMaiz"
      },
      "execution_count": null,
      "outputs": []
    }
  ]
}